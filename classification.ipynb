{
  "nbformat": 4,
  "nbformat_minor": 0,
  "metadata": {
    "colab": {
      "private_outputs": true,
      "provenance": []
    },
    "kernelspec": {
      "name": "python3",
      "display_name": "Python 3"
    },
    "language_info": {
      "name": "python"
    }
  },
  "cells": [
    {
      "cell_type": "code",
      "source": [
        "!pip install swifter  # Install first if not installed\n",
        "import pandas as pd\n",
        "import re\n",
        "import nltk\n",
        "from nltk.corpus import stopwords\n",
        "from sklearn.model_selection import train_test_split\n",
        "import pickle\n",
        "import swifter\n",
        "\n",
        "\n",
        "import nltk\n",
        "nltk.download('stopwords')\n",
        "from nltk.corpus import stopwords\n",
        "\n",
        "\n",
        "# Load dataset\n",
        "df = pd.read_csv('/content/IMDB Dataset.csv')\n",
        "\n",
        "# Text cleaning function\n",
        "def clean_text(text):\n",
        "    text = re.sub(r'<.*?>', '', text)  # Remove HTML tags\n",
        "    text = re.sub(r'[^a-zA-Z\\s]', '', text, re.I|re.A)  # Remove special chars\n",
        "    text = text.lower().strip()\n",
        "    stop_words = set(stopwords.words(\"english\"))  # Convert to set for faster lookup\n",
        "    text = \" \".join([word for word in text.split() if word not in stop_words])\n",
        "    return text\n",
        "\n",
        "# Apply text cleaning\n",
        "df[\"review\"] = df[\"review\"].apply(clean_text)\n",
        "\n",
        "# Encode labels (positive = 1, negative = 0)\n",
        "df[\"sentiment\"] = df[\"sentiment\"].map({\"positive\": 1, \"negative\": 0})\n",
        "\n",
        "# Save preprocessed data\n",
        "with open(\"processed_data.pkl\", \"wb\") as f:\n",
        "    pickle.dump(df, f)\n",
        "\n",
        "# Download processed data\n",
        "from google.colab import files\n",
        "files.download(\"processed_data.pkl\")\n"
      ],
      "metadata": {
        "id": "F1wSx0O9JkRc"
      },
      "execution_count": null,
      "outputs": []
    }
  ]
}